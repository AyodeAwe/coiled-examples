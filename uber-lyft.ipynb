{
 "cells": [
  {
   "cell_type": "markdown",
   "id": "f8eafed2-77a1-4691-8e8b-aeb1187ce8f5",
   "metadata": {},
   "source": [
    "NYC Uber/Lyft Rides\n",
    "===================\n",
    "\n",
    "The NYC Taxi dataset is a timeless classic.  \n",
    "\n",
    "Interestingly there is a new variant.  The NYC Taxi and Livery Commission requires data from all ride-share services in the city of New York.  This includes private limosine services, van services, and a new category \"High Volume For Hire Vehicle\" services, those that dispatch 10,000 rides per day or more.  This is a special category defined for Uber and Lyft.  \n",
    "\n",
    "This data is available here:"
   ]
  },
  {
   "cell_type": "code",
   "execution_count": null,
   "id": "9a9e6076-c8b3-4282-90a4-0fe3ab49440d",
   "metadata": {
    "tags": []
   },
   "outputs": [],
   "source": [
    "import coiled\n",
    "cluster = coiled.Cluster(\n",
    "    n_workers=20,\n",
    "    backend_options={\"region_name\": \"us-east-2\"},\n",
    ")\n",
    "\n",
    "client = cluster.get_client()"
   ]
  },
  {
   "cell_type": "code",
   "execution_count": null,
   "id": "33b598a4-fe0a-43c5-8007-0e955ac193f9",
   "metadata": {},
   "outputs": [],
   "source": [
    "import dask\n",
    "import dask.dataframe as dd\n",
    "\n",
    "dask.config.set({\"dataframe.convert-string\": True})  # use PyArrow strings by default\n",
    "\n",
    "df = dd.read_parquet(\n",
    "    \"s3://coiled-datasets/uber-lyft-tlc/\",\n",
    "    storage_options={\"anon\": True},\n",
    ")\n",
    "df.head()"
   ]
  },
  {
   "cell_type": "markdown",
   "id": "f9d012d8-6055-4cdc-a37e-d6a01b36c7db",
   "metadata": {},
   "source": [
    "Play time\n",
    "---------\n",
    "\n",
    "We actually don't know what to expect from this dataset.  No one in our team has spent much time inspecting it.  We'd like to solicit help from you, new Dask user, to uncover some interesting insights.  \n",
    "\n",
    "Care to explore and report your findings?"
   ]
  },
  {
   "cell_type": "code",
   "execution_count": null,
   "id": "95a96932-2109-447c-9eb3-0d235de5e973",
   "metadata": {},
   "outputs": [],
   "source": [
    "df = df.persist()\n",
    "\n",
    "df.columns"
   ]
  },
  {
   "cell_type": "markdown",
   "id": "48f4dbf8-86c6-4cfc-8125-a67ea2ddfbed",
   "metadata": {},
   "source": [
    "## Basic statistics"
   ]
  },
  {
   "cell_type": "code",
   "execution_count": null,
   "id": "f0068858-cce5-4939-85df-7251bd0923c2",
   "metadata": {},
   "outputs": [],
   "source": [
    "total = df[[\"base_passenger_fare\", \"driver_pay\", \"tips\", \"trip_miles\"]].sum()\n",
    "average = df[[\"base_passenger_fare\", \"driver_pay\", \"tips\", \"trip_miles\"]].mean()\n",
    "\n",
    "total, average = dask.compute(total, average)"
   ]
  },
  {
   "cell_type": "code",
   "execution_count": null,
   "id": "e3abf9cf-303d-4b79-a541-c337a8c55f35",
   "metadata": {},
   "outputs": [],
   "source": [
    "total"
   ]
  },
  {
   "cell_type": "code",
   "execution_count": null,
   "id": "327134c9-409c-4979-acb7-e987fe86d7aa",
   "metadata": {},
   "outputs": [],
   "source": [
    "average"
   ]
  },
  {
   "cell_type": "markdown",
   "id": "98d43c82-9a03-4311-8c17-2ef3b3519aa7",
   "metadata": {},
   "source": [
    "## Tipping Practices"
   ]
  },
  {
   "cell_type": "code",
   "execution_count": null,
   "id": "24f7760a-0048-4299-8c49-e3977ac9825e",
   "metadata": {},
   "outputs": [],
   "source": [
    "(df.tips != 0).mean().compute()"
   ]
  },
  {
   "cell_type": "markdown",
   "id": "10f285be-6839-4866-9535-43adbcc965d0",
   "metadata": {},
   "source": [
    "## Broken down by carrier"
   ]
  },
  {
   "cell_type": "code",
   "execution_count": null,
   "id": "b71729eb-f841-433a-b020-0f2b1c425355",
   "metadata": {},
   "outputs": [],
   "source": [
    "df.hvfhs_license_num.value_counts().compute()"
   ]
  },
  {
   "cell_type": "code",
   "execution_count": null,
   "id": "45d6b039-5552-474f-a5a8-771b4fc7d46e",
   "metadata": {},
   "outputs": [],
   "source": [
    "%%time\n",
    "df[\"tipped\"] = df.tips != 0\n",
    "\n",
    "df.groupby(\"hvfhs_license_num\").tipped.mean().compute()"
   ]
  }
 ],
 "metadata": {
  "kernelspec": {
   "display_name": "Python [conda env:coiled]",
   "language": "python",
   "name": "conda-env-coiled-py"
  },
  "language_info": {
   "codemirror_mode": {
    "name": "ipython",
    "version": 3
   },
   "file_extension": ".py",
   "mimetype": "text/x-python",
   "name": "python",
   "nbconvert_exporter": "python",
   "pygments_lexer": "ipython3",
   "version": "3.10.0"
  }
 },
 "nbformat": 4,
 "nbformat_minor": 5
}
