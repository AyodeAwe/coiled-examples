{
 "cells": [
  {
   "cell_type": "markdown",
   "id": "f8eafed2-77a1-4691-8e8b-aeb1187ce8f5",
   "metadata": {},
   "source": [
    "NYC Uber/Lyft Rides\n",
    "===================\n",
    "\n",
    "The NYC Taxi dataset is a timeless classic.  \n",
    "\n",
    "Interestingly there is a new variant.  The NYC Taxi and Livery Commission requires data from all ride-share services in the city of New York.  This includes private limosine services, van services, and a new category \"High Volume For Hire Vehicle\" services, those that dispatch 10,000 rides per day or more.  This is a special category defined for Uber and Lyft.  \n",
    "\n",
    "This data is available here:"
   ]
  },
  {
   "cell_type": "code",
   "execution_count": null,
   "id": "9a9e6076-c8b3-4282-90a4-0fe3ab49440d",
   "metadata": {
    "tags": []
   },
   "outputs": [],
   "source": [
    "import coiled\n",
    "cluster = coiled.Cluster(\n",
    "    n_workers=10,\n",
    "    backend_options={\"region\": \"us-east-1\"},\n",
    ")\n",
    "\n",
    "client = cluster.get_client()"
   ]
  },
  {
   "cell_type": "code",
   "execution_count": null,
   "id": "33b598a4-fe0a-43c5-8007-0e955ac193f9",
   "metadata": {},
   "outputs": [],
   "source": [
    "import dask.dataframe as dd\n",
    "\n",
    "df = dd.read_parquet(\n",
    "    \"s3://coiled-datasets/mrocklin/nyc-taxi-fhv\",\n",
    "    storage_options={\"anon\": True},\n",
    "    use_nullable_dtypes=True,\n",
    ")\n",
    "df.head()"
   ]
  },
  {
   "cell_type": "markdown",
   "id": "f9d012d8-6055-4cdc-a37e-d6a01b36c7db",
   "metadata": {},
   "source": [
    "Play time\n",
    "---------\n",
    "\n",
    "We actually don't know what to expect from this dataset.  No one in our team has spent much time inspecting it.  We'd like to solicit help from you, new Dask user, to uncover some interesting insights.  \n",
    "\n",
    "Care to explore and report your findings?"
   ]
  },
  {
   "cell_type": "code",
   "execution_count": null,
   "id": "9b27e933-c58d-489b-9089-43b01aa91ef4",
   "metadata": {},
   "outputs": [],
   "source": [
    "df.columns"
   ]
  },
  {
   "cell_type": "code",
   "execution_count": null,
   "id": "a94477a2-815a-4ed7-b8a9-236503e0c761",
   "metadata": {},
   "outputs": [],
   "source": []
  },
  {
   "cell_type": "code",
   "execution_count": null,
   "id": "dbf6499b-2930-407a-b3a6-2d0391893347",
   "metadata": {},
   "outputs": [],
   "source": []
  },
  {
   "cell_type": "code",
   "execution_count": null,
   "id": "f43170fa-d94e-4321-9c16-be23be699053",
   "metadata": {},
   "outputs": [],
   "source": []
  },
  {
   "cell_type": "code",
   "execution_count": null,
   "id": "24f7760a-0048-4299-8c49-e3977ac9825e",
   "metadata": {},
   "outputs": [],
   "source": []
  }
 ],
 "metadata": {
  "kernelspec": {
   "display_name": "Python [conda env:play]",
   "language": "python",
   "name": "conda-env-play-py"
  },
  "language_info": {
   "codemirror_mode": {
    "name": "ipython",
    "version": 3
   },
   "file_extension": ".py",
   "mimetype": "text/x-python",
   "name": "python",
   "nbconvert_exporter": "python",
   "pygments_lexer": "ipython3",
   "version": "3.11.0"
  }
 },
 "nbformat": 4,
 "nbformat_minor": 5
}
