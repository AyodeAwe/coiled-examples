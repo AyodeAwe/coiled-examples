{
 "cells": [
  {
   "cell_type": "markdown",
   "id": "bcbbc249-ad44-41e7-acd1-d38dc5ae70cd",
   "metadata": {},
   "source": [
    "# Parallelize simple for loop locally"
   ]
  },
  {
   "cell_type": "markdown",
   "id": "42499a51-5130-4cae-8ce5-0d9234133d26",
   "metadata": {},
   "source": [
    "## Create a few processes locally"
   ]
  },
  {
   "cell_type": "code",
   "execution_count": null,
   "id": "dcdc0b96-7e6d-43be-bacd-b04f4ae35a7f",
   "metadata": {
    "tags": []
   },
   "outputs": [],
   "source": [
    "from dask.distributed import Client\n",
    "client = Client()"
   ]
  },
  {
   "cell_type": "markdown",
   "id": "3e84a69c-e9a6-473f-806d-5e46f0b67bee",
   "metadata": {},
   "source": [
    "## Some basic Python code"
   ]
  },
  {
   "cell_type": "code",
   "execution_count": null,
   "id": "acaf1116-6802-4561-adc4-2f3858d7a21f",
   "metadata": {},
   "outputs": [],
   "source": [
    "import time, random\n",
    "\n",
    "def inc(x):\n",
    "    time.sleep(random.random())\n",
    "    return x + 1\n",
    "\n",
    "\n",
    "def dec(x):\n",
    "    time.sleep(random.random())\n",
    "    return x - 1"
   ]
  },
  {
   "cell_type": "code",
   "execution_count": null,
   "id": "0265fa74-1086-4218-b9f9-7af773b4b897",
   "metadata": {},
   "outputs": [],
   "source": [
    "%%time\n",
    "inc(10)"
   ]
  },
  {
   "cell_type": "markdown",
   "id": "ef34469f-2aef-4e60-99af-5e8090cdd3bc",
   "metadata": {},
   "source": [
    "## Sequential Code"
   ]
  },
  {
   "cell_type": "code",
   "execution_count": null,
   "id": "0e124bca-f536-4286-83e0-ff5123fb7e95",
   "metadata": {},
   "outputs": [],
   "source": [
    "%%time\n",
    "\n",
    "results = []\n",
    "for x in range(10):\n",
    "    result = inc(x)\n",
    "    result = dec(result)\n",
    "    results.append(result)"
   ]
  },
  {
   "cell_type": "markdown",
   "id": "38b4d6e9-f511-42b5-8708-c3350fc82894",
   "metadata": {
    "tags": []
   },
   "source": [
    "## Parallel code\n"
   ]
  },
  {
   "cell_type": "code",
   "execution_count": null,
   "id": "31b20bab-34d4-41bb-a4dc-335f51858235",
   "metadata": {
    "tags": []
   },
   "outputs": [],
   "source": [
    "%%time\n",
    "\n",
    "results = []\n",
    "for x in range(100):\n",
    "    result = client.submit(inc, x)\n",
    "    result = client.submit(dec, result)\n",
    "    results.append(result)\n",
    "    \n",
    "results = client.gather(results)"
   ]
  },
  {
   "cell_type": "code",
   "execution_count": null,
   "id": "8cbcc7ef-7739-4b3f-a17d-f663270cbcd7",
   "metadata": {},
   "outputs": [],
   "source": []
  }
 ],
 "metadata": {
  "kernelspec": {
   "display_name": "Python 3 (ipykernel)",
   "language": "python",
   "name": "python3"
  },
  "language_info": {
   "codemirror_mode": {
    "name": "ipython",
    "version": 3
   },
   "file_extension": ".py",
   "mimetype": "text/x-python",
   "name": "python",
   "nbconvert_exporter": "python",
   "pygments_lexer": "ipython3",
   "version": "3.10.0"
  }
 },
 "nbformat": 4,
 "nbformat_minor": 5
}
