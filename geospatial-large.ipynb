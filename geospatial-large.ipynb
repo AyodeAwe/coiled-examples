{
 "cells": [
  {
   "cell_type": "markdown",
   "id": "75688ac6-879d-4449-b73e-74f03a5f991f",
   "metadata": {
    "tags": [],
    "user_expressions": []
   },
   "source": [
    "<img src=\"https://xarray.dev/dataset-diagram-logo.png\"\n",
    "     align=\"right\"\n",
    "     width=\"30%\"/>\n",
    "\n",
    "# Geospatial Large\n",
    "\n",
    "This is a national water model: https://registry.opendata.aws/nwm-archive/"
   ]
  },
  {
   "cell_type": "markdown",
   "id": "5dd71599-465f-4c97-baaa-19d900d2a070",
   "metadata": {
    "user_expressions": []
   },
   "source": [
    "## Set up cluster"
   ]
  },
  {
   "cell_type": "code",
   "execution_count": null,
   "id": "60b08a1c-d042-40f2-aaaa-e7665ca85d64",
   "metadata": {
    "tags": []
   },
   "outputs": [],
   "source": [
    "import coiled\n",
    "\n",
    "cluster = coiled.Cluster(\n",
    "    n_workers=40,\n",
    "    region=\"us-east-1\",\n",
    ")\n",
    "client = cluster.get_client()"
   ]
  },
  {
   "cell_type": "markdown",
   "id": "8185966d-6659-482b-bcbb-826b8f30b1e3",
   "metadata": {},
   "source": [
    "## Load NWM data"
   ]
  },
  {
   "cell_type": "code",
   "execution_count": null,
   "id": "e8b1749a-0d64-4278-823c-892120bf1a5b",
   "metadata": {
    "tags": []
   },
   "outputs": [],
   "source": [
    "import xarray as xr\n",
    "\n",
    "ds = xr.open_zarr(\n",
    "    \"s3://noaa-nwm-retrospective-2-1-zarr-pds/rtout.zarr\",\n",
    "    consolidated=True,\n",
    ")\n",
    "ds"
   ]
  },
  {
   "cell_type": "code",
   "execution_count": null,
   "id": "2147fc5c-60ee-4409-8c22-69c5e68a4c63",
   "metadata": {
    "tags": []
   },
   "outputs": [],
   "source": [
    "ds.nbytes / 1e12  # half-petabyte"
   ]
  },
  {
   "cell_type": "markdown",
   "id": "0911fb96-7c08-4ca6-a35a-22e2a5a908cd",
   "metadata": {
    "tags": []
   },
   "source": [
    "## Compute average over space"
   ]
  },
  {
   "cell_type": "code",
   "execution_count": null,
   "id": "2a6fb91d-6a02-4afc-8d8a-ec3529f805f4",
   "metadata": {
    "tags": []
   },
   "outputs": [],
   "source": [
    "subset = ds.zwattablrt.sel(time=slice(\"2001-01-01\", \"2001-12-31\"))\n",
    "subset"
   ]
  },
  {
   "cell_type": "code",
   "execution_count": null,
   "id": "8ae07b31-383c-4cc9-b94a-cbbb68369746",
   "metadata": {
    "tags": []
   },
   "outputs": [],
   "source": [
    "avg = subset.mean(dim=[\"x\", \"y\"]).persist()"
   ]
  },
  {
   "cell_type": "code",
   "execution_count": null,
   "id": "c42ef712-c60c-4049-816f-fcbd115a27a5",
   "metadata": {
    "tags": []
   },
   "outputs": [],
   "source": [
    "cluster.scale(300)"
   ]
  },
  {
   "cell_type": "code",
   "execution_count": null,
   "id": "fdb5ac6f-48c3-4457-bf80-aab4336598f3",
   "metadata": {
    "tags": []
   },
   "outputs": [],
   "source": [
    "avg.compute().plot()"
   ]
  },
  {
   "cell_type": "code",
   "execution_count": null,
   "id": "1f71eff1-986f-4a7c-9ebe-92437effff8b",
   "metadata": {},
   "outputs": [],
   "source": [
    "cluster.shutdown()"
   ]
  }
 ],
 "metadata": {
  "kernelspec": {
   "display_name": "Python [conda env:deepak]",
   "language": "python",
   "name": "conda-env-deepak-py"
  },
  "language_info": {
   "codemirror_mode": {
    "name": "ipython",
    "version": 3
   },
   "file_extension": ".py",
   "mimetype": "text/x-python",
   "name": "python",
   "nbconvert_exporter": "python",
   "pygments_lexer": "ipython3",
   "version": "3.11.3"
  },
  "widgets": {
   "application/vnd.jupyter.widget-state+json": {
    "state": {
     "274c3d0adc2240e2bc8db5d3a158e3d5": {
      "model_module": "@jupyter-widgets/base",
      "model_module_version": "2.0.0",
      "model_name": "LayoutModel",
      "state": {}
     },
     "8d89273f1f004bbcaee28acd3f9a185f": {
      "model_module": "@jupyter-widgets/output",
      "model_module_version": "1.0.0",
      "model_name": "OutputModel",
      "state": {
       "layout": "IPY_MODEL_274c3d0adc2240e2bc8db5d3a158e3d5",
       "outputs": [
        {
         "data": {
          "text/html": "<pre style=\"white-space:pre;overflow-x:auto;line-height:normal;font-family:Menlo,'DejaVu Sans Mono',consolas,'Courier New',monospace\">╭────────────────────────────────────────── <span style=\"color: #008000; text-decoration-color: #008000\">Package Sync</span> ──────────────────────────────────────────╮\n│ Fetching latest package priorities <span style=\"color: #729c1f; text-decoration-color: #729c1f\">━━━━━━━━━━━━━━━━━━━━━━━━━━━━━━━━━━━━━━━━</span> <span style=\"color: #808000; text-decoration-color: #808000\">0:00:00</span>              │\n│ Scanning 307 conda packages        <span style=\"color: #729c1f; text-decoration-color: #729c1f\">━━━━━━━━━━━━━━━━━━━━━━━━━━━━━━━━━━━━━━━━</span> <span style=\"color: #808000; text-decoration-color: #808000\">0:00:00</span>              │\n│ Scanning 173 python packages       <span style=\"color: #729c1f; text-decoration-color: #729c1f\">━━━━━━━━━━━━━━━━━━━━━━━━━━━━━━━━━━━━━━━━</span> <span style=\"color: #808000; text-decoration-color: #808000\">0:00:00</span>              │\n│ Running pip check                  <span style=\"color: #729c1f; text-decoration-color: #729c1f\">━━━━━━━━━━━━━━━━━━━━━━━━━━━━━━━━━━━━━━━━</span> <span style=\"color: #808000; text-decoration-color: #808000\">0:00:01</span>              │\n│ Validating environment             <span style=\"color: #729c1f; text-decoration-color: #729c1f\">━━━━━━━━━━━━━━━━━━━━━━━━━━━━━━━━━━━━━━━━</span> <span style=\"color: #808000; text-decoration-color: #808000\">0:00:01</span>              │\n│ Requesting package sync build      <span style=\"color: #3a3a3a; text-decoration-color: #3a3a3a\">━━━━━━━━━━━━━━━━━━━━━━━━━━━━━━━━━━━━━━━━</span> <span style=\"color: #808000; text-decoration-color: #808000\">0:00:00</span>              │\n╰──────────────────────────────────────────────────────────────────────────────────────────────────╯\n</pre>\n",
          "text/plain": "╭────────────────────────────────────────── \u001b[32mPackage Sync\u001b[0m ──────────────────────────────────────────╮\n│ Fetching latest package priorities \u001b[38;2;114;156;31m━━━━━━━━━━━━━━━━━━━━━━━━━━━━━━━━━━━━━━━━\u001b[0m \u001b[33m0:00:00\u001b[0m              │\n│ Scanning 307 conda packages        \u001b[38;2;114;156;31m━━━━━━━━━━━━━━━━━━━━━━━━━━━━━━━━━━━━━━━━\u001b[0m \u001b[33m0:00:00\u001b[0m              │\n│ Scanning 173 python packages       \u001b[38;2;114;156;31m━━━━━━━━━━━━━━━━━━━━━━━━━━━━━━━━━━━━━━━━\u001b[0m \u001b[33m0:00:00\u001b[0m              │\n│ Running pip check                  \u001b[38;2;114;156;31m━━━━━━━━━━━━━━━━━━━━━━━━━━━━━━━━━━━━━━━━\u001b[0m \u001b[33m0:00:01\u001b[0m              │\n│ Validating environment             \u001b[38;2;114;156;31m━━━━━━━━━━━━━━━━━━━━━━━━━━━━━━━━━━━━━━━━\u001b[0m \u001b[33m0:00:01\u001b[0m              │\n│ Requesting package sync build      \u001b[38;5;237m━━━━━━━━━━━━━━━━━━━━━━━━━━━━━━━━━━━━━━━━\u001b[0m \u001b[33m0:00:00\u001b[0m              │\n╰──────────────────────────────────────────────────────────────────────────────────────────────────╯\n"
         },
         "metadata": {},
         "output_type": "display_data"
        }
       ]
      }
     },
     "a4ed12c8b34040f59bea2223e9690611": {
      "model_module": "@jupyter-widgets/base",
      "model_module_version": "2.0.0",
      "model_name": "LayoutModel",
      "state": {}
     },
     "cadf446ee96c450dad4fa735c95cf2b2": {
      "model_module": "@jupyter-widgets/output",
      "model_module_version": "1.0.0",
      "model_name": "OutputModel",
      "state": {
       "layout": "IPY_MODEL_a4ed12c8b34040f59bea2223e9690611",
       "outputs": [
        {
         "data": {
          "text/html": "<pre style=\"white-space:pre;overflow-x:auto;line-height:normal;font-family:Menlo,'DejaVu Sans Mono',consolas,'Courier New',monospace\">╭───────────────────────────────────────── <span style=\"color: #008000; text-decoration-color: #008000; font-weight: bold\">Coiled Cluster</span> ─────────────────────────────────────────╮\n│                  https://cloud.coiled.io/clusters/198135/overview?account=dask                   │\n╰──────────────────────────────────────────────────────────────────────────────────────────────────╯\n╭─────────────────── Overview ───────────────────╮╭──────────────── Configuration ─────────────────╮\n│                                                ││                                                │\n│ <span style=\"color: #008000; text-decoration-color: #008000; font-weight: bold\">Cluster Name:</span> dask-cc561669-2                  ││ <span style=\"color: #008000; text-decoration-color: #008000; font-weight: bold\">Region:</span> us-east-1                              │\n│                                                ││                                                │\n│ <span style=\"color: #008000; text-decoration-color: #008000; font-weight: bold\">Scheduler Status:</span> started                      ││ <span style=\"color: #008000; text-decoration-color: #008000; font-weight: bold\">Scheduler Instance Type:</span> m6i.xlarge            │\n│                                                ││                                                │\n│ <span style=\"color: #008000; text-decoration-color: #008000; font-weight: bold\">Dashboard Address:</span>                             ││ <span style=\"color: #008000; text-decoration-color: #008000; font-weight: bold\">Worker Instance Type(s):</span> m6i.xlarge (2)        │\n│ <a href=\"https://cluster-vosfo.dask.host?token=NQMz8bdz37dRL19V\" target=\"_blank\">https://cluster-vosfo.dask.host?token=NQMz8bdz</a> ││                                                │\n│ <a href=\"https://cluster-vosfo.dask.host?token=NQMz8bdz37dRL19V\" target=\"_blank\">37dRL19V</a>                                       ││ <span style=\"color: #008000; text-decoration-color: #008000; font-weight: bold\">Workers Requested:</span> 2                           │\n│                                                ││                                                │\n╰────────────────────────────────────────────────╯╰────────────────────────────────────────────────╯\n╭─────────────────────────────────── (2023/04/21 22:46:53 MDT) ────────────────────────────────────╮\n│                                                                                                  │\n│                                        All workers ready.                                        │\n│                                                                                                  │\n│                                                                                                  │\n╰──────────────────────────────────────────────────────────────────────────────────────────────────╯\n\n\n\n</pre>\n",
          "text/plain": "╭───────────────────────────────────────── \u001b[1;51;32mCoiled Cluster\u001b[0m ─────────────────────────────────────────╮\n│                  https://cloud.coiled.io/clusters/198135/overview?account=dask                   │\n╰──────────────────────────────────────────────────────────────────────────────────────────────────╯\n╭─────────────────── Overview ───────────────────╮╭──────────────── Configuration ─────────────────╮\n│                                                ││                                                │\n│ \u001b[1;32mCluster Name:\u001b[0m dask-cc561669-2                  ││ \u001b[1;32mRegion:\u001b[0m us-east-1                              │\n│                                                ││                                                │\n│ \u001b[1;32mScheduler Status:\u001b[0m started                      ││ \u001b[1;32mScheduler Instance Type:\u001b[0m m6i.xlarge            │\n│                                                ││                                                │\n│ \u001b[1;32mDashboard Address:\u001b[0m                             ││ \u001b[1;32mWorker Instance Type(s):\u001b[0m m6i.xlarge (2)        │\n│ \u001b]8;id=54053;https://cluster-vosfo.dask.host?token=NQMz8bdz37dRL19V\u001b\\https://cluster-vosfo.dask.host?token=NQMz8bdz\u001b]8;;\u001b\\ ││                                                │\n│ \u001b]8;id=54053;https://cluster-vosfo.dask.host?token=NQMz8bdz37dRL19V\u001b\\37dRL19V\u001b]8;;\u001b\\                                       ││ \u001b[1;32mWorkers Requested:\u001b[0m 2                           │\n│                                                ││                                                │\n╰────────────────────────────────────────────────╯╰────────────────────────────────────────────────╯\n╭─────────────────────────────────── (2023/04/21 22:46:53 MDT) ────────────────────────────────────╮\n│                                                                                                  │\n│                                        All workers ready.                                        │\n│                                                                                                  │\n│                                                                                                  │\n╰──────────────────────────────────────────────────────────────────────────────────────────────────╯\n\n\n\n"
         },
         "metadata": {},
         "output_type": "display_data"
        }
       ]
      }
     }
    },
    "version_major": 2,
    "version_minor": 0
   }
  }
 },
 "nbformat": 4,
 "nbformat_minor": 5
}
